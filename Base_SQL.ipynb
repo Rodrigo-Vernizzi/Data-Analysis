{
  "nbformat": 4,
  "nbformat_minor": 0,
  "metadata": {
    "colab": {
      "provenance": []
    },
    "kernelspec": {
      "name": "python3",
      "display_name": "Python 3"
    },
    "language_info": {
      "name": "python"
    }
  },
  "cells": [
    {
      "cell_type": "code",
      "execution_count": null,
      "metadata": {
        "id": "TcvQPb9Rvlgm"
      },
      "outputs": [],
      "source": [
        "import sqlite3"
      ]
    },
    {
      "cell_type": "code",
      "source": [
        "#Cria banco de dados\n",
        "def criar_banco():\n",
        "    conn = sqlite3.connect('banco_dados.db') #conexão\n",
        "    cursor = conn.cursor() #cursor\n",
        "\n",
        "    #Tabela\n",
        "    cursor.execute('''CREATE TABLE IF NOT EXISTS alunos\n",
        "                    (id INTEGER PRIMARY KEY AUTOINCREMENT,\n",
        "                    nome TEXT NOT NULL,\n",
        "                    idade INTEGER NOT NULL,\n",
        "                    classe TEXT NOT NULL,\n",
        "                    nota INTEGER NOT NULL);''')\n",
        "    \n",
        "    #fim conexão\n",
        "    conn.close()\n"
      ],
      "metadata": {
        "id": "uRg51cbDvu9Z"
      },
      "execution_count": null,
      "outputs": []
    },
    {
      "cell_type": "code",
      "source": [
        "#Insere dados\n",
        "def inserir_dados():\n",
        "    conn = sqlite3.connect('banco_dados.db')\n",
        "    cursor = conn.cursor()\n",
        "    \n",
        "    nome = input(\"Nome do(a) aluno(a): \")\n",
        "    idade = input(\"Idade do(a) aluno(a): \")\n",
        "    classe = input(\"Classe do(a) aluno(a): \")\n",
        "    nota = input(\"Nota do(a) aluno(a): \")\n",
        "\n",
        "    #dados na tabela\n",
        "    cursor.execute(\"INSERT INTO alunos (nome, idade, classe, nota) VALUES (?, ?, ?, ?)\", (nome, idade, classe, nota))\n",
        "    \n",
        "\n",
        "    conn.commit()\n",
        "    conn.close()"
      ],
      "metadata": {
        "id": "MJClVuJtwSb7"
      },
      "execution_count": null,
      "outputs": []
    },
    {
      "cell_type": "code",
      "source": [
        "#Buscar dados\n",
        "def busca_dados():\n",
        "    conn = sqlite3.connect('banco_dados.db')\n",
        "    cursor = conn.cursor()\n",
        "    \n",
        "    nome = input(\"Nome do(a) aluno(a) que deseja procurar: \")\n",
        "\n",
        "    # Busca dados\n",
        "    cursor.execute(\"SELECT * FROM alunos WHERE nome=?\", (nome,))\n",
        "    resultado = cursor.fetchall()\n",
        "    \n",
        "    # Exibe dados\n",
        "    if resultado:\n",
        "        print(\"Dados encontrados:\")\n",
        "        for row in resultado:\n",
        "            print(\"Nome:\", row[1])\n",
        "            print(\"Idade:\", row[2])\n",
        "            print(\"Classe:\", row[3])\n",
        "            print(\"Nota:\", row[4])\n",
        "    else:\n",
        "        print(\"Nenhum dado encontrado com esse nome.\")\n",
        "    \n",
        "\n",
        "    conn.close()"
      ],
      "metadata": {
        "id": "El0NyUK5vvBa"
      },
      "execution_count": null,
      "outputs": []
    },
    {
      "cell_type": "code",
      "source": [
        "def deleta_dados():\n",
        "    # Conectar ao banco de dados\n",
        "    conn = sqlite3.connect('banco_dados.db')\n",
        "    cursor = conn.cursor()\n",
        "\n",
        "    nome = input(\"De qual aluno(a) deseja remover os dados? \")    \n",
        "\n",
        "    # remove\n",
        "    cursor.execute(\"DELETE  FROM alunos WHERE nome=?\", (nome,))\n",
        "    # Salvar as mudanças e fechar a conexão\n",
        "    conn.commit()\n",
        "    conn.close()"
      ],
      "metadata": {
        "id": "VRMAJ6G-0ySf"
      },
      "execution_count": null,
      "outputs": []
    },
    {
      "cell_type": "code",
      "source": [
        "# Cria o banco de dados\n",
        "criar_banco()"
      ],
      "metadata": {
        "id": "xfM7_5levvET"
      },
      "execution_count": null,
      "outputs": []
    },
    {
      "cell_type": "code",
      "source": [
        "inserir_dados()"
      ],
      "metadata": {
        "id": "uOdbeAB5vvGs"
      },
      "execution_count": null,
      "outputs": []
    },
    {
      "cell_type": "code",
      "source": [
        "busca_dados()"
      ],
      "metadata": {
        "id": "IPSHeLgrvvJF"
      },
      "execution_count": null,
      "outputs": []
    },
    {
      "cell_type": "code",
      "source": [
        "deleta_dados()"
      ],
      "metadata": {
        "id": "eQkFtkstvvL0"
      },
      "execution_count": null,
      "outputs": []
    },
    {
      "cell_type": "code",
      "source": [],
      "metadata": {
        "id": "RQCwXKJyvvOS"
      },
      "execution_count": null,
      "outputs": []
    },
    {
      "cell_type": "code",
      "source": [],
      "metadata": {
        "id": "AqHO6M7RvvWp"
      },
      "execution_count": null,
      "outputs": []
    }
  ]
}